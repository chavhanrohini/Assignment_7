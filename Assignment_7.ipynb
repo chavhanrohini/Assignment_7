{
 "cells": [
  {
   "cell_type": "markdown",
   "id": "2af6e8da",
   "metadata": {},
   "source": [
    "## 1. What is the name of the feature responsible for generating Regex objects?\n",
    "The feature responsible for generating Regex objects in Python is the `re` module.\n"
   ]
  },
  {
   "cell_type": "markdown",
   "id": "d059a0f7",
   "metadata": {},
   "source": [
    "## 2. Why do raw strings often appear in Regex objects?\n",
    "Raw strings (prefixing the string with an 'r') are often used in Regex objects to prevent Python's escape sequences from interfering with the regular expression pattern. Since regular expressions often contain backslashes ('\\'), which are also escape characters in Python strings, using a raw string ensures that the backslashes are treated as literal characters within the regular expression.\n"
   ]
  },
  {
   "cell_type": "markdown",
   "id": "a04bcc4b",
   "metadata": {},
   "source": [
    "## 3. What is the return value of the search() method?\n",
    "The `search()` method in Python's `re` module returns a match object if the pattern is found in the input string. If the pattern is not found, it returns `None`.\n"
   ]
  },
  {
   "cell_type": "markdown",
   "id": "af523d59",
   "metadata": {},
   "source": [
    "## 4. From a Match item, how do you get the actual strings that match the pattern?\n",
    "To get the actual strings that match the pattern from a Match object, you can use the `.group()` method. For example, `match.group(0)` returns the entire match, and `match.group(1)` returns the first captured group.\n"
   ]
  },
  {
   "cell_type": "markdown",
   "id": "31898f72",
   "metadata": {},
   "source": [
    "## 5. In the regex which created from the r'(\\d\\d\\d)-(\\d\\d\\d-\\d\\d\\d\\d)', what does group zero cover? Group 2? Group 1?\n",
    "In the regex `r'(\\d\\d\\d)-(\\d\\d\\d-\\d\\d\\d\\d)'`:\n",
    "•\tGroup 0 (index 0) covers the entire matched string.\n",
    "•\tGroup 1 (index 1) covers the first three digits before the hyphen.\n",
    "•\tGroup 2 (index 2) covers the remaining digits after the hyphen.\n"
   ]
  },
  {
   "cell_type": "markdown",
   "id": "3e69c3db",
   "metadata": {},
   "source": [
    "## 6. In standard expression syntax, parentheses and intervals have distinct meanings. How can you tell a regex that you want it to fit real parentheses and periods?\n",
    "To tell a regex that you want to match real parentheses and periods (literal characters) and not use them for their special regex meanings, you can escape them with a backslash. For example, to match a literal period ('.'), you can use `'\\.'`, and to match a literal opening parenthesis ('('), you can use `'\\('`.\n"
   ]
  },
  {
   "cell_type": "markdown",
   "id": "e3b78dca",
   "metadata": {},
   "source": [
    "## 7. The findall() method returns a string list or a list of string tuples. What causes it to return one of the two options?\n",
    "The `findall()` method returns a list of all non-overlapping matches in the input string. If the regular expression pattern contains capturing groups (parentheses), it returns a list of tuples where each tuple represents a match, and the elements of the tuple correspond to the captured groups within that match. If there are no capturing groups in the pattern, it returns a list of strings.\n"
   ]
  },
  {
   "cell_type": "markdown",
   "id": "16b428de",
   "metadata": {},
   "source": [
    "## 8. In standard expressions, what does the | character mean?\n",
    "In standard expressions, the `|` character functions as an OR operator. It allows you to specify alternative patterns to match. For example, `pattern1|pattern2` matches either `pattern1` or `pattern2`.\n"
   ]
  },
  {
   "cell_type": "markdown",
   "id": "c8b1ed4d",
   "metadata": {},
   "source": [
    "## 9. In regular expressions, what does the character stand for?\n",
    "In regular expressions, the `\\d` shorthand character class signifies any digit (0-9).\n",
    "•\t`\\w` signifies any word character (alphanumeric plus underscore).\n",
    "•\t`\\s` signifies any whitespace character (spaces, tabs, newlines).\n"
   ]
  },
  {
   "cell_type": "markdown",
   "id": "aa2550e6",
   "metadata": {},
   "source": [
    "## 10.In regular expressions, what is the difference between the + and * characters?\n",
    "In regular expressions:\n",
    "•\tThe `+` character means \"one or more\" of the preceding character or group.\n",
    "•\tThe `*` character means \"zero or more\" of the preceding character or group.\n"
   ]
  },
  {
   "cell_type": "markdown",
   "id": "31021888",
   "metadata": {},
   "source": [
    "## 11. What is the difference between {4} and {4,5} in regular expression?\n",
    "In regular expressions:\n",
    "•\t`{4}` specifies exactly four occurrences of the preceding character or group.\n",
    "•\t`{4,5}` specifies a range of four to five occurrences of the preceding character or group.\n"
   ]
  },
  {
   "cell_type": "markdown",
   "id": "c23bd8fa",
   "metadata": {},
   "source": [
    "## 12. What do you mean by the \\d, \\w, and \\s shorthand character classes signify in regular expressions?\n",
    "In regular expressions:\n",
    "•\t`\\D` represents any character that is not a digit.\n",
    "•\t`\\W` represents any character that is not a word character (non-alphanumeric or underscore).\n",
    "•\t`\\S` represents any character that is not a whitespace character.\n"
   ]
  },
  {
   "cell_type": "markdown",
   "id": "2ad4a76b",
   "metadata": {},
   "source": [
    "## 13. What do means by \\D, \\W, and \\S shorthand character classes signify in regular expressions?\n",
    "In regular expressions, the `\\d`, `\\w`, and `\\s` shorthand character classes signify:\n",
    "•\t`\\d`: Any digit (0-9).\n",
    "•\t`\\w`: Any word character (alphanumeric plus underscore).\n",
    "•\t`\\s`: Any whitespace character (spaces, tabs, newlines).\n"
   ]
  },
  {
   "cell_type": "markdown",
   "id": "bfb49353",
   "metadata": {},
   "source": [
    "## 14. What is the difference between .*? and .*?\n",
    "The difference between `.*?` and `.*` in regular expressions is in their matching behavior:\n",
    "•\t`.*?` is a non-greedy or minimal match, which matches as little as possible while still satisfying the pattern.\n",
    "•\t`.*` is a greedy match, which matches as much as possible while still satisfying the pattern.\n"
   ]
  },
  {
   "cell_type": "markdown",
   "id": "a2c304da",
   "metadata": {},
   "source": [
    "## 15. What is the syntax for matching both numbers and lowercase letters with a character class?\n",
    "To match both numbers and lowercase letters with a character class, you can use `[0-9a-z]`. This character class matches any character that is a digit (0-9) or a lowercase letter (a-z).\n"
   ]
  },
  {
   "cell_type": "markdown",
   "id": "f4720df9",
   "metadata": {},
   "source": [
    "## 16. What is the procedure for making a normal expression in regax case insensitive?\n",
    "To make a regular expression case insensitive in Python, you can use the `re.IGNORECASE` flag or `re.I` as the second argument to `re.compile()`. For example, `re.compile(pattern, re.IGNORECASE)`.\n"
   ]
  },
  {
   "cell_type": "markdown",
   "id": "c7eff237",
   "metadata": {},
   "source": [
    "## 17. What does the . character normally match? What does it match if re.DOTALL is passed as 2nd argument in re.compile()?\n",
    "In regular expressions, the `.` character normally matches any character except a newline (`\\n`). If `re.DOTALL` (or `re.S`) is passed as the second argument to `re.compile()`, the `.` character will match any character, including newline characters.\n"
   ]
  },
  {
   "cell_type": "markdown",
   "id": "7b7c630f",
   "metadata": {},
   "source": [
    "## 18. If numReg = re.compile(r'\\d+'), what will numRegex.sub('X', '11 drummers, 10 pipers, five rings, 4 hen') return?\n",
    "If `numRegex = re.compile(r'\\d+')`, then `numRegex.sub('X', '11 drummers, 10 pipers, five rings, 4 hen')` will return the string `'X drummers, X pipers, five rings, X hen'`. The `sub()` method replaces all occurrences of one or more digits with the letter 'X'.\n",
    "\n"
   ]
  },
  {
   "cell_type": "markdown",
   "id": "6a064c18",
   "metadata": {},
   "source": [
    "## 19. What does passing re.VERBOSE as the 2nd argument to re.compile() allow to do?\n",
    "Passing `re.VERBOSE` as the second argument to `re.compile()` allows you to write regular expressions with whitespace and comments. It ignores whitespace and allows you to add comments using the `#` symbol.\n"
   ]
  },
  {
   "cell_type": "markdown",
   "id": "94cdd36a",
   "metadata": {},
   "source": [
    "## 20. How would you write a regex that match a number with comma for every three digits? It must match the given following:\n",
    "#'42'\n",
    "'1,234'\n",
    "'6,368,745'\n",
    "but not the following:\n",
    "'12,34,567' (which has only two digits between the commas)\n",
    "'1234' (which lacks commas)\n",
    "\n",
    "To match a number with a comma for every three digits, you can use the following regular expression: `r'^\\d{1,3}(,\\d{3})*$'`.\n"
   ]
  },
  {
   "cell_type": "markdown",
   "id": "e19fd108",
   "metadata": {},
   "source": [
    "## 21. How would you write a regex that matches the full name of someone whose last name is Watanabe? You can assume that the first name that comes before it will always be one word that begins with a capital letter. The regex must match the following:\n",
    "'Haruto Watanabe'\n",
    "'Alice Watanabe'\n",
    "'RoboCop Watanabe'\n",
    "but not the following:\n",
    "'haruto Watanabe' (where the first name is not capitalized)\n",
    "'Mr. Watanabe' (where the preceding word has a nonletter character)\n",
    "'Watanabe' (which has no first name)\n",
    "'Haruto watanabe' (where Watanabe is not capitalized)\n",
    "\n",
    "To match the full name of someone whose last name is Watanabe with a case-insensitive regex, you can use the following pattern: `r'[A-Z][a-z]*\\sWatanabe'`.\n"
   ]
  },
  {
   "cell_type": "markdown",
   "id": "95613aac",
   "metadata": {},
   "source": [
    "## 22. How would you write a regex that matches a sentence where the first word is either Alice, Bob, or Carol; the second word is either eats, pets, or throws; the third word is apples, cats, or baseballs; and the sentence ends with a period? This regex should be case-insensitive. It must match the following:\n",
    "'Alice eats apples.'\n",
    "'Bob pets cats.'\n",
    "'Carol throws baseballs.'\n",
    "'Alice throws Apples.'\n",
    "'BOB EATS CATS.'\n",
    "but not the following:\n",
    "'RoboCop eats apples.'\n",
    "'ALICE THROWS FOOTBALLS.'\n",
    "'Carol eats 7 cats.'\n",
    "\n",
    "\n",
    "To match sentences where the first word is either Alice, Bob, or Carol; the second word is either eats, pets, or throws; the third word is apples, cats, or baseballs; and the sentence ends with a period (case-insensitive), you can use the following regex pattern: `r'(Alice|Bob|Carol)\\s(eats|pets|throws)\\s(apples|cats|baseballs)\\.'`.\n"
   ]
  },
  {
   "cell_type": "code",
   "execution_count": null,
   "id": "0dc53718",
   "metadata": {},
   "outputs": [],
   "source": []
  },
  {
   "cell_type": "code",
   "execution_count": null,
   "id": "fcbc1ab4",
   "metadata": {},
   "outputs": [],
   "source": []
  }
 ],
 "metadata": {
  "kernelspec": {
   "display_name": "Python 3 (ipykernel)",
   "language": "python",
   "name": "python3"
  },
  "language_info": {
   "codemirror_mode": {
    "name": "ipython",
    "version": 3
   },
   "file_extension": ".py",
   "mimetype": "text/x-python",
   "name": "python",
   "nbconvert_exporter": "python",
   "pygments_lexer": "ipython3",
   "version": "3.9.12"
  }
 },
 "nbformat": 4,
 "nbformat_minor": 5
}
